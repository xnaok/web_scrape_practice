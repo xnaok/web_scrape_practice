{
  "nbformat": 4,
  "nbformat_minor": 0,
  "metadata": {
    "colab": {
      "name": "Untitled0.ipynb",
      "provenance": [],
      "collapsed_sections": [],
      "authorship_tag": "ABX9TyNSDu1HX6MI4Gasp0Lk3GBB",
      "include_colab_link": true
    },
    "kernelspec": {
      "name": "python3",
      "display_name": "Python 3"
    },
    "language_info": {
      "name": "python"
    }
  },
  "cells": [
    {
      "cell_type": "markdown",
      "metadata": {
        "id": "view-in-github",
        "colab_type": "text"
      },
      "source": [
        "<a href=\"https://colab.research.google.com/github/xnaok/web_scrape_practice/blob/feature-test/basicalPython.ipynb\" target=\"_parent\"><img src=\"https://colab.research.google.com/assets/colab-badge.svg\" alt=\"Open In Colab\"/></a>"
      ]
    },
    {
      "cell_type": "code",
      "execution_count": 1,
      "metadata": {
        "colab": {
          "base_uri": "https://localhost:8080/"
        },
        "id": "Pb-RGK5iMbuR",
        "outputId": "1f38dd24-7a32-4382-bfea-3fa01e7b50ca"
      },
      "outputs": [
        {
          "output_type": "stream",
          "name": "stdout",
          "text": [
            "Hello World!\n"
          ]
        }
      ],
      "source": [
        "print(\"Hello World!\")"
      ]
    },
    {
      "cell_type": "code",
      "source": [
        "print(3)"
      ],
      "metadata": {
        "colab": {
          "base_uri": "https://localhost:8080/"
        },
        "id": "Hh4PqrumMx7C",
        "outputId": "bbff5c63-83b8-41c8-ea57-fe33043bbfdb"
      },
      "execution_count": 2,
      "outputs": [
        {
          "output_type": "stream",
          "name": "stdout",
          "text": [
            "3\n"
          ]
        }
      ]
    },
    {
      "cell_type": "code",
      "source": [
        "print(4+2)"
      ],
      "metadata": {
        "colab": {
          "base_uri": "https://localhost:8080/"
        },
        "id": "L-twwjTYM2Aj",
        "outputId": "93f7452e-4f50-4849-f564-9a3d6d1c173e"
      },
      "execution_count": 3,
      "outputs": [
        {
          "output_type": "stream",
          "name": "stdout",
          "text": [
            "6\n"
          ]
        }
      ]
    },
    {
      "cell_type": "code",
      "source": [
        "print(5-2)"
      ],
      "metadata": {
        "colab": {
          "base_uri": "https://localhost:8080/"
        },
        "id": "xES9s9tPNBhN",
        "outputId": "9291a9c4-72f7-481f-cebf-13d4a15e8395"
      },
      "execution_count": 4,
      "outputs": [
        {
          "output_type": "stream",
          "name": "stdout",
          "text": [
            "3\n"
          ]
        }
      ]
    },
    {
      "cell_type": "code",
      "source": [
        "print(10**2)"
      ],
      "metadata": {
        "colab": {
          "base_uri": "https://localhost:8080/"
        },
        "id": "8SqHBdUcNKHD",
        "outputId": "228ff8d5-6cd3-4956-f9f8-72cdfcab1d10"
      },
      "execution_count": 5,
      "outputs": [
        {
          "output_type": "stream",
          "name": "stdout",
          "text": [
            "100\n"
          ]
        }
      ]
    },
    {
      "cell_type": "code",
      "source": [
        "x = 'hello world'\n",
        "y = 42\n",
        "\n",
        "print(x)\n",
        "print(y)"
      ],
      "metadata": {
        "colab": {
          "base_uri": "https://localhost:8080/"
        },
        "id": "UFGVqNawN1fm",
        "outputId": "a37bdd24-9062-4f07-a3d5-edad0d024842"
      },
      "execution_count": 6,
      "outputs": [
        {
          "output_type": "stream",
          "name": "stdout",
          "text": [
            "hello world\n",
            "42\n"
          ]
        }
      ]
    },
    {
      "cell_type": "code",
      "source": [
        "print(type(11))"
      ],
      "metadata": {
        "colab": {
          "base_uri": "https://localhost:8080/"
        },
        "id": "S9kvNX1hOKuS",
        "outputId": "e9cc5c6f-08c0-483e-a6b7-d47d049f7273"
      },
      "execution_count": 7,
      "outputs": [
        {
          "output_type": "stream",
          "name": "stdout",
          "text": [
            "<class 'int'>\n"
          ]
        }
      ]
    },
    {
      "cell_type": "code",
      "source": [
        "print(type(13.2))"
      ],
      "metadata": {
        "colab": {
          "base_uri": "https://localhost:8080/"
        },
        "id": "6KQE-sFaOOaN",
        "outputId": "974ef82c-dece-4a2b-b128-edf649eb04e0"
      },
      "execution_count": 8,
      "outputs": [
        {
          "output_type": "stream",
          "name": "stdout",
          "text": [
            "<class 'float'>\n"
          ]
        }
      ]
    },
    {
      "cell_type": "code",
      "source": [
        "print(type('Python'))"
      ],
      "metadata": {
        "colab": {
          "base_uri": "https://localhost:8080/"
        },
        "id": "OTRuTQPWOTnO",
        "outputId": "51831fda-9cf7-4a22-addf-5136e2add569"
      },
      "execution_count": 9,
      "outputs": [
        {
          "output_type": "stream",
          "name": "stdout",
          "text": [
            "<class 'str'>\n"
          ]
        }
      ]
    },
    {
      "cell_type": "code",
      "source": [
        "b = 'I\\'m good.' # I'mという短縮形を表現したい場合、mの直前の'は『文字列の終わりの綴じではないよ』というのをプログラムに認識してもらうために、\\を使います。\n",
        "\n",
        "print(b)"
      ],
      "metadata": {
        "colab": {
          "base_uri": "https://localhost:8080/"
        },
        "id": "-shnz-WtObbR",
        "outputId": "f383c6a3-5702-4e21-deda-90e28e88b31b"
      },
      "execution_count": 10,
      "outputs": [
        {
          "output_type": "stream",
          "name": "stdout",
          "text": [
            "I'm good.\n"
          ]
        }
      ]
    },
    {
      "cell_type": "code",
      "source": [
        "print(10 - int(\"5\"))"
      ],
      "metadata": {
        "colab": {
          "base_uri": "https://localhost:8080/"
        },
        "id": "ELWVtu_5PCdE",
        "outputId": "91caddbb-82eb-48f7-f69d-49b5258d9217"
      },
      "execution_count": 11,
      "outputs": [
        {
          "output_type": "stream",
          "name": "stdout",
          "text": [
            "5\n"
          ]
        }
      ]
    },
    {
      "cell_type": "code",
      "source": [
        "li = [1,2,3,4,5]\n",
        "print(li) # [1,2,3,4,5]が出力\n",
        "print(len(li)) # リストの要素数（長さ）を調べたい時にはlen()を使います。"
      ],
      "metadata": {
        "colab": {
          "base_uri": "https://localhost:8080/"
        },
        "id": "rBMINhKEPPfm",
        "outputId": "d76c7461-341c-4da4-c8c4-286c8a5bce4b"
      },
      "execution_count": 13,
      "outputs": [
        {
          "output_type": "stream",
          "name": "stdout",
          "text": [
            "[1, 2, 3, 4, 5]\n",
            "5\n"
          ]
        }
      ]
    },
    {
      "cell_type": "code",
      "source": [
        "# リストはミュータブルなので、以下のように\n",
        "# 書き換えられる。 添え字0を100に変更\n",
        "li[0] = 100\n",
        "\n",
        "# 変更後のリスト(li)を出力\n",
        "print(li)"
      ],
      "metadata": {
        "colab": {
          "base_uri": "https://localhost:8080/"
        },
        "id": "oWGl0vNoPsZD",
        "outputId": "388ed61f-cc7b-4b31-9370-9ee0ecafb29c"
      },
      "execution_count": 14,
      "outputs": [
        {
          "output_type": "stream",
          "name": "stdout",
          "text": [
            "[100, 2, 3, 4, 5]\n"
          ]
        }
      ]
    },
    {
      "cell_type": "code",
      "source": [
        "# リストの連結\n",
        "li1 = [1, 2, 3]\n",
        "li2 = [4, 5, 6]\n",
        "\n",
        "li3 = li1 + li2\n",
        "print(li3) # [1, 2, 3, 4, 5, 6]"
      ],
      "metadata": {
        "colab": {
          "base_uri": "https://localhost:8080/"
        },
        "id": "Sdyrnq6APy4L",
        "outputId": "b2c2363c-7aab-4f19-abdb-54f41ced565e"
      },
      "execution_count": 15,
      "outputs": [
        {
          "output_type": "stream",
          "name": "stdout",
          "text": [
            "[1, 2, 3, 4, 5, 6]\n"
          ]
        }
      ]
    },
    {
      "cell_type": "code",
      "source": [
        "li = [1, 2, 3, 4]\n",
        "print(li[0: 4]) # [1, 2, 3, 4]\n",
        "print(li[: 4])  # [1, 2, 3, 4]\n",
        "print(li[-3:])  # [2, 3, 4]\n",
        "print(li[2: -1])# [3]\n",
        "# 逆順\n",
        "print(li[::-1]) # [4, 3, 2, 1]\n",
        "# 全ての要素を取得\n",
        "print(li[:])    #  [1, 2, 3, 4]"
      ],
      "metadata": {
        "colab": {
          "base_uri": "https://localhost:8080/"
        },
        "id": "OGaYWd6tQbgM",
        "outputId": "4f9bff38-6097-4269-e183-2c524a2f6ff1"
      },
      "execution_count": 18,
      "outputs": [
        {
          "output_type": "stream",
          "name": "stdout",
          "text": [
            "[1, 2, 3, 4]\n",
            "[1, 2, 3, 4]\n",
            "[2, 3, 4]\n",
            "[3]\n",
            "[4, 3, 2, 1]\n",
            "[1, 2, 3, 4]\n"
          ]
        }
      ]
    },
    {
      "cell_type": "code",
      "source": [
        "t = (5,10) \n",
        "print(t[0])\n",
        "\n",
        "t[0] = 100 # エラーになる"
      ],
      "metadata": {
        "colab": {
          "base_uri": "https://localhost:8080/",
          "height": 222
        },
        "id": "kex88DqOTATZ",
        "outputId": "a1e2b313-645d-47b2-da39-1e54dfc88d87"
      },
      "execution_count": 20,
      "outputs": [
        {
          "output_type": "stream",
          "name": "stdout",
          "text": [
            "5\n"
          ]
        },
        {
          "output_type": "error",
          "ename": "TypeError",
          "evalue": "ignored",
          "traceback": [
            "\u001b[0;31m---------------------------------------------------------------------------\u001b[0m",
            "\u001b[0;31mTypeError\u001b[0m                                 Traceback (most recent call last)",
            "\u001b[0;32m<ipython-input-20-8be60de2c626>\u001b[0m in \u001b[0;36m<module>\u001b[0;34m()\u001b[0m\n\u001b[1;32m      2\u001b[0m \u001b[0mprint\u001b[0m\u001b[0;34m(\u001b[0m\u001b[0mt\u001b[0m\u001b[0;34m[\u001b[0m\u001b[0;36m0\u001b[0m\u001b[0;34m]\u001b[0m\u001b[0;34m)\u001b[0m\u001b[0;34m\u001b[0m\u001b[0;34m\u001b[0m\u001b[0m\n\u001b[1;32m      3\u001b[0m \u001b[0;34m\u001b[0m\u001b[0m\n\u001b[0;32m----> 4\u001b[0;31m \u001b[0mt\u001b[0m\u001b[0;34m[\u001b[0m\u001b[0;36m0\u001b[0m\u001b[0;34m]\u001b[0m \u001b[0;34m=\u001b[0m \u001b[0;36m100\u001b[0m \u001b[0;31m# エラーになる\u001b[0m\u001b[0;34m\u001b[0m\u001b[0;34m\u001b[0m\u001b[0m\n\u001b[0m",
            "\u001b[0;31mTypeError\u001b[0m: 'tuple' object does not support item assignment"
          ]
        }
      ]
    },
    {
      "cell_type": "code",
      "source": [
        "t = 123, 555, 150, \"hello\"\n",
        "print(t[0])\n",
        "\n",
        "# タプルは入れ子もできます。\n",
        "t2 = t, (1,2,3)\n",
        "print(t2) # ((123, 555, 150, 'hello'), (1, 2, 3))\n",
        "\n",
        "# 1つ値のタプルは、カンマをつける必要があります。\n",
        "t3 = \"hello\",\n",
        "print(t3)\n",
        "print(type(t3))"
      ],
      "metadata": {
        "colab": {
          "base_uri": "https://localhost:8080/"
        },
        "id": "pmfJBbN4TUCX",
        "outputId": "e96b0096-2161-4cd9-f2a8-342b54d5ab82"
      },
      "execution_count": 23,
      "outputs": [
        {
          "output_type": "stream",
          "name": "stdout",
          "text": [
            "123\n",
            "((123, 555, 150, 'hello'), (1, 2, 3))\n",
            "('hello',)\n",
            "<class 'tuple'>\n"
          ]
        }
      ]
    },
    {
      "cell_type": "code",
      "source": [
        "# nameがキーで、axrossが値。同じように、emailがキーで、axross-info@sbinnoventureが値\n",
        "profile = {'name': 'axross', 'email': \"axross-info@sbinnoventure\" }\n",
        "print(profile['name']) # axross\n",
        "\n",
        "# 新しく要素を追加\n",
        "profile['gender'] = 'male'\n",
        "\n",
        "# 新しく要素を追加した辞書型(profile)を出力\n",
        "print(profile)"
      ],
      "metadata": {
        "colab": {
          "base_uri": "https://localhost:8080/"
        },
        "id": "Hh3eLlg9UdBn",
        "outputId": "8d87597e-d734-4ca2-996d-4cdc7b21f63d"
      },
      "execution_count": 25,
      "outputs": [
        {
          "output_type": "stream",
          "name": "stdout",
          "text": [
            "axross\n",
            "{'name': 'axross', 'email': 'axross-info@sbinnoventure', 'gender': 'male'}\n"
          ]
        }
      ]
    },
    {
      "cell_type": "code",
      "source": [
        "for i in range(0,5): # 0から5未満(4まで)を繰り返す\n",
        "    # ループ内変数iに1~4までの数字が生成され、ループ毎に1つ1つ代入されます。(最初のループでは0が代入されます。)\n",
        "    print(i)"
      ],
      "metadata": {
        "colab": {
          "base_uri": "https://localhost:8080/"
        },
        "id": "U2zK23x7YUPu",
        "outputId": "5047a40d-1465-49d4-e5a5-65153c1d0595"
      },
      "execution_count": 26,
      "outputs": [
        {
          "output_type": "stream",
          "name": "stdout",
          "text": [
            "0\n",
            "1\n",
            "2\n",
            "3\n",
            "4\n"
          ]
        }
      ]
    },
    {
      "cell_type": "code",
      "source": [
        "\"\"\"\n",
        "def 関数名(引数名1, 引数名2, ...):\n",
        "    # 処理を書く\n",
        "\n",
        "関数名() # 関数名()で関数を実行できる\n",
        "\"\"\"\n",
        "\n",
        "# hello関数の定義\n",
        "def hello():\n",
        "    print(\"Hello!!\")\n",
        "\n",
        "# 関数呼び出し\n",
        "hello() # 関数名()で呼び出せる"
      ],
      "metadata": {
        "colab": {
          "base_uri": "https://localhost:8080/"
        },
        "id": "wZ-doYNHY4kj",
        "outputId": "32a864ea-90f7-4765-ce57-69f74171015a"
      },
      "execution_count": 27,
      "outputs": [
        {
          "output_type": "stream",
          "name": "stdout",
          "text": [
            "Hello!!\n"
          ]
        }
      ]
    },
    {
      "cell_type": "code",
      "source": [
        "# 関数に渡す値を引数という\n",
        "\n",
        "def say_hello(name):\n",
        "    print(\"こんにちは、\",name)\n",
        "\n",
        "say_hello(\"藤原\")\n",
        "say_hello(\"加藤\")\n",
        "say_hello(\"鈴木\")"
      ],
      "metadata": {
        "colab": {
          "base_uri": "https://localhost:8080/"
        },
        "id": "llpiu7_aZCLn",
        "outputId": "f650461b-8c30-40b8-ccef-ee98cda7cc4c"
      },
      "execution_count": 28,
      "outputs": [
        {
          "output_type": "stream",
          "name": "stdout",
          "text": [
            "こんにちは、 藤原\n",
            "こんにちは、 加藤\n",
            "こんにちは、 鈴木\n"
          ]
        }
      ]
    },
    {
      "cell_type": "code",
      "source": [
        "# 引数とデフォルト値\n",
        "\n",
        "# 関数の定義 名無し（ななし）という文字列を初期引数として渡す。\n",
        "def say_hello(name=\"ななしさん\"):\n",
        "    print(\"こんにちは、\",name)\n",
        "\n",
        "say_hello(\"藤原\")\n",
        "say_hello(\"加藤\")\n",
        "say_hello(\"鈴木\")\n",
        "say_hello()"
      ],
      "metadata": {
        "colab": {
          "base_uri": "https://localhost:8080/"
        },
        "id": "MPJ26h2RZO_u",
        "outputId": "291d2753-28c2-4ad8-a42e-ac7992ec3320"
      },
      "execution_count": 29,
      "outputs": [
        {
          "output_type": "stream",
          "name": "stdout",
          "text": [
            "こんにちは、 藤原\n",
            "こんにちは、 加藤\n",
            "こんにちは、 鈴木\n",
            "こんにちは、 ななしさん\n"
          ]
        }
      ]
    },
    {
      "cell_type": "code",
      "source": [
        "\"\"\"\n",
        "def 関数名(引数名1, 引数名2, ...):\n",
        "    # 処理を書く\n",
        "    return 【返り値】\n",
        "\"\"\"\n",
        "\n",
        "def adder(a, b):\n",
        "    return a+b\n",
        "\n",
        "print(adder(5,10)) # 15が出力される"
      ],
      "metadata": {
        "colab": {
          "base_uri": "https://localhost:8080/"
        },
        "id": "vePELf7qcsAC",
        "outputId": "0453363d-1694-4726-909b-c50da023c968"
      },
      "execution_count": 30,
      "outputs": [
        {
          "output_type": "stream",
          "name": "stdout",
          "text": [
            "15\n"
          ]
        }
      ]
    },
    {
      "cell_type": "code",
      "source": [
        "def power(x):\n",
        "    return x*x\n",
        "\n",
        "def absolute(x):\n",
        "    if (x < 0):\n",
        "        return -x\n",
        "    else:\n",
        "        return x\n",
        "\n",
        "print(power(10)) # 100\n",
        "print(absolute(-10)) # 10"
      ],
      "metadata": {
        "colab": {
          "base_uri": "https://localhost:8080/"
        },
        "id": "GIl3rUZecwVX",
        "outputId": "ed260f73-e5ae-431d-85e4-5a26d50c253c"
      },
      "execution_count": 31,
      "outputs": [
        {
          "output_type": "stream",
          "name": "stdout",
          "text": [
            "100\n",
            "10\n"
          ]
        }
      ]
    }
  ]
}